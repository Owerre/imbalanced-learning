{
 "cells": [
  {
   "cell_type": "markdown",
   "metadata": {},
   "source": [
    "# Data Cleaning"
   ]
  },
  {
   "cell_type": "code",
   "execution_count": 1,
   "metadata": {
    "tags": []
   },
   "outputs": [],
   "source": [
    "# Ignore deprecated warning\n",
    "import warnings\n",
    "warnings.filterwarnings(\"ignore\")\n",
    "\n",
    "# Data manipulation\n",
    "%matplotlib inline\n",
    "import pandas as pd\n",
    "import numpy as np\n",
    "import time\n",
    "\n",
    "# Data visualization\n",
    "import matplotlib.pyplot as plt\n",
    "import seaborn as sns"
   ]
  },
  {
   "cell_type": "markdown",
   "metadata": {},
   "source": [
    "# Load  data\n",
    "In each attribute\n",
    "\n",
    "1. U, UU, UUU, UUUU represent unknown values\n",
    "2. X, XX, XXX, XXXX represent jurisdiction does not provide this data element\n",
    "3. Q, QQ, QQQ, QQQQ represent choice is other than the preceding values\n",
    "4. N, NN, NNN, NNNN represent data element is not applicable."
   ]
  },
  {
   "cell_type": "code",
   "execution_count": 2,
   "metadata": {},
   "outputs": [
    {
     "name": "stdout",
     "output_type": "stream",
     "text": [
      "Data size: (6771768, 23)\n"
     ]
    },
    {
     "data": {
      "text/html": [
       "<div>\n",
       "<style scoped>\n",
       "    .dataframe tbody tr th:only-of-type {\n",
       "        vertical-align: middle;\n",
       "    }\n",
       "\n",
       "    .dataframe tbody tr th {\n",
       "        vertical-align: top;\n",
       "    }\n",
       "\n",
       "    .dataframe thead th {\n",
       "        text-align: right;\n",
       "    }\n",
       "</style>\n",
       "<table border=\"1\" class=\"dataframe\">\n",
       "  <thead>\n",
       "    <tr style=\"text-align: right;\">\n",
       "      <th></th>\n",
       "      <th>c_year</th>\n",
       "      <th>c_mnth</th>\n",
       "      <th>c_wday</th>\n",
       "      <th>c_hour</th>\n",
       "      <th>class</th>\n",
       "      <th>c_vehs</th>\n",
       "      <th>c_conf</th>\n",
       "      <th>c_rcfg</th>\n",
       "      <th>c_wthr</th>\n",
       "      <th>c_rsur</th>\n",
       "      <th>...</th>\n",
       "      <th>v_type</th>\n",
       "      <th>v_year</th>\n",
       "      <th>p_id</th>\n",
       "      <th>p_sex</th>\n",
       "      <th>p_age</th>\n",
       "      <th>p_psn</th>\n",
       "      <th>p_isev</th>\n",
       "      <th>p_safe</th>\n",
       "      <th>p_user</th>\n",
       "      <th>c_case</th>\n",
       "    </tr>\n",
       "  </thead>\n",
       "  <tbody>\n",
       "    <tr>\n",
       "      <th>0</th>\n",
       "      <td>1999</td>\n",
       "      <td>1</td>\n",
       "      <td>1</td>\n",
       "      <td>20</td>\n",
       "      <td>2</td>\n",
       "      <td>02</td>\n",
       "      <td>34</td>\n",
       "      <td>UU</td>\n",
       "      <td>1</td>\n",
       "      <td>5</td>\n",
       "      <td>...</td>\n",
       "      <td>06</td>\n",
       "      <td>1990</td>\n",
       "      <td>01</td>\n",
       "      <td>M</td>\n",
       "      <td>41</td>\n",
       "      <td>11</td>\n",
       "      <td>1</td>\n",
       "      <td>UU</td>\n",
       "      <td>1</td>\n",
       "      <td>752</td>\n",
       "    </tr>\n",
       "    <tr>\n",
       "      <th>1</th>\n",
       "      <td>1999</td>\n",
       "      <td>1</td>\n",
       "      <td>1</td>\n",
       "      <td>20</td>\n",
       "      <td>2</td>\n",
       "      <td>02</td>\n",
       "      <td>34</td>\n",
       "      <td>UU</td>\n",
       "      <td>1</td>\n",
       "      <td>5</td>\n",
       "      <td>...</td>\n",
       "      <td>01</td>\n",
       "      <td>1987</td>\n",
       "      <td>01</td>\n",
       "      <td>M</td>\n",
       "      <td>19</td>\n",
       "      <td>11</td>\n",
       "      <td>1</td>\n",
       "      <td>UU</td>\n",
       "      <td>1</td>\n",
       "      <td>752</td>\n",
       "    </tr>\n",
       "    <tr>\n",
       "      <th>2</th>\n",
       "      <td>1999</td>\n",
       "      <td>1</td>\n",
       "      <td>1</td>\n",
       "      <td>20</td>\n",
       "      <td>2</td>\n",
       "      <td>02</td>\n",
       "      <td>34</td>\n",
       "      <td>UU</td>\n",
       "      <td>1</td>\n",
       "      <td>5</td>\n",
       "      <td>...</td>\n",
       "      <td>01</td>\n",
       "      <td>1987</td>\n",
       "      <td>02</td>\n",
       "      <td>F</td>\n",
       "      <td>20</td>\n",
       "      <td>13</td>\n",
       "      <td>2</td>\n",
       "      <td>02</td>\n",
       "      <td>2</td>\n",
       "      <td>752</td>\n",
       "    </tr>\n",
       "    <tr>\n",
       "      <th>3</th>\n",
       "      <td>1999</td>\n",
       "      <td>1</td>\n",
       "      <td>1</td>\n",
       "      <td>08</td>\n",
       "      <td>2</td>\n",
       "      <td>01</td>\n",
       "      <td>01</td>\n",
       "      <td>UU</td>\n",
       "      <td>5</td>\n",
       "      <td>3</td>\n",
       "      <td>...</td>\n",
       "      <td>01</td>\n",
       "      <td>1986</td>\n",
       "      <td>01</td>\n",
       "      <td>M</td>\n",
       "      <td>46</td>\n",
       "      <td>11</td>\n",
       "      <td>1</td>\n",
       "      <td>UU</td>\n",
       "      <td>1</td>\n",
       "      <td>753</td>\n",
       "    </tr>\n",
       "    <tr>\n",
       "      <th>4</th>\n",
       "      <td>1999</td>\n",
       "      <td>1</td>\n",
       "      <td>1</td>\n",
       "      <td>08</td>\n",
       "      <td>2</td>\n",
       "      <td>01</td>\n",
       "      <td>01</td>\n",
       "      <td>UU</td>\n",
       "      <td>5</td>\n",
       "      <td>3</td>\n",
       "      <td>...</td>\n",
       "      <td>NN</td>\n",
       "      <td>NNNN</td>\n",
       "      <td>01</td>\n",
       "      <td>M</td>\n",
       "      <td>05</td>\n",
       "      <td>99</td>\n",
       "      <td>2</td>\n",
       "      <td>UU</td>\n",
       "      <td>3</td>\n",
       "      <td>753</td>\n",
       "    </tr>\n",
       "  </tbody>\n",
       "</table>\n",
       "<p>5 rows × 23 columns</p>\n",
       "</div>"
      ],
      "text/plain": [
       "   c_year c_mnth c_wday c_hour  class c_vehs c_conf c_rcfg c_wthr c_rsur  ...  \\\n",
       "0    1999      1      1     20      2     02     34     UU      1      5  ...   \n",
       "1    1999      1      1     20      2     02     34     UU      1      5  ...   \n",
       "2    1999      1      1     20      2     02     34     UU      1      5  ...   \n",
       "3    1999      1      1     08      2     01     01     UU      5      3  ...   \n",
       "4    1999      1      1     08      2     01     01     UU      5      3  ...   \n",
       "\n",
       "  v_type v_year p_id p_sex p_age p_psn p_isev p_safe p_user c_case  \n",
       "0     06   1990   01     M    41    11      1     UU      1    752  \n",
       "1     01   1987   01     M    19    11      1     UU      1    752  \n",
       "2     01   1987   02     F    20    13      2     02      2    752  \n",
       "3     01   1986   01     M    46    11      1     UU      1    753  \n",
       "4     NN   NNNN   01     M    05    99      2     UU      3    753  \n",
       "\n",
       "[5 rows x 23 columns]"
      ]
     },
     "execution_count": 2,
     "metadata": {},
     "output_type": "execute_result"
    }
   ],
   "source": [
    "df = pd.read_csv('../data/NCDB_1999_to_2017.csv') # Load raw data\n",
    "\n",
    "df.columns = [x.lower() for x in df.columns] # Column names in lower case\n",
    "\n",
    "df = df.rename(columns ={'c_sev':'class'}) # Rename the class variable\n",
    "\n",
    "df.drop_duplicates(inplace = True) # Drop duplicate rows\n",
    "\n",
    "print('Data size: {}'.format(df.shape))\n",
    "df.head()"
   ]
  },
  {
   "cell_type": "markdown",
   "metadata": {},
   "source": [
    "# Data types and missing values\n",
    "\n",
    "There are only 3 numerical attributes out of 23 attributes. The data show no missing values because some of the attributes contain inconsistent formats like U, X, N, and Q as stated above. "
   ]
  },
  {
   "cell_type": "code",
   "execution_count": 3,
   "metadata": {},
   "outputs": [
    {
     "name": "stdout",
     "output_type": "stream",
     "text": [
      "<class 'pandas.core.frame.DataFrame'>\n",
      "Int64Index: 6771768 entries, 0 to 6772562\n",
      "Data columns (total 23 columns):\n",
      " #   Column  Dtype \n",
      "---  ------  ----- \n",
      " 0   c_year  int64 \n",
      " 1   c_mnth  object\n",
      " 2   c_wday  object\n",
      " 3   c_hour  object\n",
      " 4   class   int64 \n",
      " 5   c_vehs  object\n",
      " 6   c_conf  object\n",
      " 7   c_rcfg  object\n",
      " 8   c_wthr  object\n",
      " 9   c_rsur  object\n",
      " 10  c_raln  object\n",
      " 11  c_traf  object\n",
      " 12  v_id    object\n",
      " 13  v_type  object\n",
      " 14  v_year  object\n",
      " 15  p_id    object\n",
      " 16  p_sex   object\n",
      " 17  p_age   object\n",
      " 18  p_psn   object\n",
      " 19  p_isev  object\n",
      " 20  p_safe  object\n",
      " 21  p_user  object\n",
      " 22  c_case  int64 \n",
      "dtypes: int64(3), object(20)\n",
      "memory usage: 1.2+ GB\n"
     ]
    }
   ],
   "source": [
    "df.info()"
   ]
  },
  {
   "cell_type": "code",
   "execution_count": 4,
   "metadata": {},
   "outputs": [
    {
     "data": {
      "text/html": [
       "<div>\n",
       "<style scoped>\n",
       "    .dataframe tbody tr th:only-of-type {\n",
       "        vertical-align: middle;\n",
       "    }\n",
       "\n",
       "    .dataframe tbody tr th {\n",
       "        vertical-align: top;\n",
       "    }\n",
       "\n",
       "    .dataframe thead th {\n",
       "        text-align: right;\n",
       "    }\n",
       "</style>\n",
       "<table border=\"1\" class=\"dataframe\">\n",
       "  <thead>\n",
       "    <tr style=\"text-align: right;\">\n",
       "      <th></th>\n",
       "      <th>c_year</th>\n",
       "      <th>c_mnth</th>\n",
       "      <th>c_wday</th>\n",
       "      <th>c_hour</th>\n",
       "      <th>class</th>\n",
       "      <th>c_vehs</th>\n",
       "      <th>c_conf</th>\n",
       "      <th>c_rcfg</th>\n",
       "      <th>c_wthr</th>\n",
       "      <th>c_rsur</th>\n",
       "      <th>...</th>\n",
       "      <th>v_type</th>\n",
       "      <th>v_year</th>\n",
       "      <th>p_id</th>\n",
       "      <th>p_sex</th>\n",
       "      <th>p_age</th>\n",
       "      <th>p_psn</th>\n",
       "      <th>p_isev</th>\n",
       "      <th>p_safe</th>\n",
       "      <th>p_user</th>\n",
       "      <th>c_case</th>\n",
       "    </tr>\n",
       "  </thead>\n",
       "  <tbody>\n",
       "    <tr>\n",
       "      <th>0</th>\n",
       "      <td>1999</td>\n",
       "      <td>1</td>\n",
       "      <td>1</td>\n",
       "      <td>20</td>\n",
       "      <td>2</td>\n",
       "      <td>02</td>\n",
       "      <td>34</td>\n",
       "      <td>NaN</td>\n",
       "      <td>1</td>\n",
       "      <td>5</td>\n",
       "      <td>...</td>\n",
       "      <td>06</td>\n",
       "      <td>1990</td>\n",
       "      <td>01</td>\n",
       "      <td>M</td>\n",
       "      <td>41</td>\n",
       "      <td>11</td>\n",
       "      <td>1</td>\n",
       "      <td>NaN</td>\n",
       "      <td>1</td>\n",
       "      <td>752</td>\n",
       "    </tr>\n",
       "    <tr>\n",
       "      <th>1</th>\n",
       "      <td>1999</td>\n",
       "      <td>1</td>\n",
       "      <td>1</td>\n",
       "      <td>20</td>\n",
       "      <td>2</td>\n",
       "      <td>02</td>\n",
       "      <td>34</td>\n",
       "      <td>NaN</td>\n",
       "      <td>1</td>\n",
       "      <td>5</td>\n",
       "      <td>...</td>\n",
       "      <td>01</td>\n",
       "      <td>1987</td>\n",
       "      <td>01</td>\n",
       "      <td>M</td>\n",
       "      <td>19</td>\n",
       "      <td>11</td>\n",
       "      <td>1</td>\n",
       "      <td>NaN</td>\n",
       "      <td>1</td>\n",
       "      <td>752</td>\n",
       "    </tr>\n",
       "    <tr>\n",
       "      <th>2</th>\n",
       "      <td>1999</td>\n",
       "      <td>1</td>\n",
       "      <td>1</td>\n",
       "      <td>20</td>\n",
       "      <td>2</td>\n",
       "      <td>02</td>\n",
       "      <td>34</td>\n",
       "      <td>NaN</td>\n",
       "      <td>1</td>\n",
       "      <td>5</td>\n",
       "      <td>...</td>\n",
       "      <td>01</td>\n",
       "      <td>1987</td>\n",
       "      <td>02</td>\n",
       "      <td>F</td>\n",
       "      <td>20</td>\n",
       "      <td>13</td>\n",
       "      <td>2</td>\n",
       "      <td>02</td>\n",
       "      <td>2</td>\n",
       "      <td>752</td>\n",
       "    </tr>\n",
       "    <tr>\n",
       "      <th>3</th>\n",
       "      <td>1999</td>\n",
       "      <td>1</td>\n",
       "      <td>1</td>\n",
       "      <td>08</td>\n",
       "      <td>2</td>\n",
       "      <td>01</td>\n",
       "      <td>01</td>\n",
       "      <td>NaN</td>\n",
       "      <td>5</td>\n",
       "      <td>3</td>\n",
       "      <td>...</td>\n",
       "      <td>01</td>\n",
       "      <td>1986</td>\n",
       "      <td>01</td>\n",
       "      <td>M</td>\n",
       "      <td>46</td>\n",
       "      <td>11</td>\n",
       "      <td>1</td>\n",
       "      <td>NaN</td>\n",
       "      <td>1</td>\n",
       "      <td>753</td>\n",
       "    </tr>\n",
       "    <tr>\n",
       "      <th>4</th>\n",
       "      <td>1999</td>\n",
       "      <td>1</td>\n",
       "      <td>1</td>\n",
       "      <td>08</td>\n",
       "      <td>2</td>\n",
       "      <td>01</td>\n",
       "      <td>01</td>\n",
       "      <td>NaN</td>\n",
       "      <td>5</td>\n",
       "      <td>3</td>\n",
       "      <td>...</td>\n",
       "      <td>NaN</td>\n",
       "      <td>NaN</td>\n",
       "      <td>01</td>\n",
       "      <td>M</td>\n",
       "      <td>05</td>\n",
       "      <td>99</td>\n",
       "      <td>2</td>\n",
       "      <td>NaN</td>\n",
       "      <td>3</td>\n",
       "      <td>753</td>\n",
       "    </tr>\n",
       "  </tbody>\n",
       "</table>\n",
       "<p>5 rows × 23 columns</p>\n",
       "</div>"
      ],
      "text/plain": [
       "   c_year c_mnth c_wday c_hour  class c_vehs c_conf c_rcfg c_wthr c_rsur  ...  \\\n",
       "0    1999      1      1     20      2     02     34    NaN      1      5  ...   \n",
       "1    1999      1      1     20      2     02     34    NaN      1      5  ...   \n",
       "2    1999      1      1     20      2     02     34    NaN      1      5  ...   \n",
       "3    1999      1      1     08      2     01     01    NaN      5      3  ...   \n",
       "4    1999      1      1     08      2     01     01    NaN      5      3  ...   \n",
       "\n",
       "  v_type v_year p_id p_sex p_age p_psn p_isev p_safe p_user c_case  \n",
       "0     06   1990   01     M    41    11      1    NaN      1    752  \n",
       "1     01   1987   01     M    19    11      1    NaN      1    752  \n",
       "2     01   1987   02     F    20    13      2     02      2    752  \n",
       "3     01   1986   01     M    46    11      1    NaN      1    753  \n",
       "4    NaN    NaN   01     M    05    99      2    NaN      3    753  \n",
       "\n",
       "[5 rows x 23 columns]"
      ]
     },
     "execution_count": 4,
     "metadata": {},
     "output_type": "execute_result"
    }
   ],
   "source": [
    "# Replace letters with numpy nan\n",
    "letter_list = ['U', 'UU', 'UUU', 'UUUU', 'Q', 'QQ', 'QQQ', 'QQQQ', \n",
    "               'N', 'NN', 'NNN', 'NNNN', 'X', 'XX', 'XXX', 'XXXX']\n",
    "df.replace(letter_list, np.nan, inplace = True)\n",
    "df.head()"
   ]
  },
  {
   "cell_type": "markdown",
   "metadata": {},
   "source": [
    "# Percentage of missing values\n",
    "\n",
    "There are lots of missing values in some attributes. Since the dataset is large, we will drop rows with missing values during modeling"
   ]
  },
  {
   "cell_type": "code",
   "execution_count": 5,
   "metadata": {},
   "outputs": [
    {
     "data": {
      "text/html": [
       "<div>\n",
       "<style scoped>\n",
       "    .dataframe tbody tr th:only-of-type {\n",
       "        vertical-align: middle;\n",
       "    }\n",
       "\n",
       "    .dataframe tbody tr th {\n",
       "        vertical-align: top;\n",
       "    }\n",
       "\n",
       "    .dataframe thead th {\n",
       "        text-align: right;\n",
       "    }\n",
       "</style>\n",
       "<table border=\"1\" class=\"dataframe\">\n",
       "  <thead>\n",
       "    <tr style=\"text-align: right;\">\n",
       "      <th></th>\n",
       "      <th>Variable</th>\n",
       "      <th>% missing values</th>\n",
       "    </tr>\n",
       "  </thead>\n",
       "  <tbody>\n",
       "    <tr>\n",
       "      <th>0</th>\n",
       "      <td>p_safe</td>\n",
       "      <td>21.184630</td>\n",
       "    </tr>\n",
       "    <tr>\n",
       "      <th>1</th>\n",
       "      <td>c_rcfg</td>\n",
       "      <td>10.663892</td>\n",
       "    </tr>\n",
       "    <tr>\n",
       "      <th>2</th>\n",
       "      <td>v_year</td>\n",
       "      <td>9.889500</td>\n",
       "    </tr>\n",
       "    <tr>\n",
       "      <th>3</th>\n",
       "      <td>c_conf</td>\n",
       "      <td>8.005487</td>\n",
       "    </tr>\n",
       "    <tr>\n",
       "      <th>4</th>\n",
       "      <td>c_raln</td>\n",
       "      <td>7.525612</td>\n",
       "    </tr>\n",
       "    <tr>\n",
       "      <th>5</th>\n",
       "      <td>p_age</td>\n",
       "      <td>6.751738</td>\n",
       "    </tr>\n",
       "    <tr>\n",
       "      <th>6</th>\n",
       "      <td>p_isev</td>\n",
       "      <td>6.403822</td>\n",
       "    </tr>\n",
       "    <tr>\n",
       "      <th>7</th>\n",
       "      <td>c_traf</td>\n",
       "      <td>5.312719</td>\n",
       "    </tr>\n",
       "    <tr>\n",
       "      <th>8</th>\n",
       "      <td>v_type</td>\n",
       "      <td>4.892061</td>\n",
       "    </tr>\n",
       "    <tr>\n",
       "      <th>9</th>\n",
       "      <td>p_sex</td>\n",
       "      <td>4.481134</td>\n",
       "    </tr>\n",
       "    <tr>\n",
       "      <th>10</th>\n",
       "      <td>c_rsur</td>\n",
       "      <td>4.110980</td>\n",
       "    </tr>\n",
       "    <tr>\n",
       "      <th>11</th>\n",
       "      <td>p_user</td>\n",
       "      <td>3.262206</td>\n",
       "    </tr>\n",
       "    <tr>\n",
       "      <th>12</th>\n",
       "      <td>p_psn</td>\n",
       "      <td>1.988993</td>\n",
       "    </tr>\n",
       "    <tr>\n",
       "      <th>13</th>\n",
       "      <td>c_wthr</td>\n",
       "      <td>1.708904</td>\n",
       "    </tr>\n",
       "    <tr>\n",
       "      <th>14</th>\n",
       "      <td>c_hour</td>\n",
       "      <td>0.979213</td>\n",
       "    </tr>\n",
       "    <tr>\n",
       "      <th>15</th>\n",
       "      <td>p_id</td>\n",
       "      <td>0.250998</td>\n",
       "    </tr>\n",
       "    <tr>\n",
       "      <th>16</th>\n",
       "      <td>c_wday</td>\n",
       "      <td>0.020142</td>\n",
       "    </tr>\n",
       "    <tr>\n",
       "      <th>17</th>\n",
       "      <td>c_vehs</td>\n",
       "      <td>0.008373</td>\n",
       "    </tr>\n",
       "    <tr>\n",
       "      <th>18</th>\n",
       "      <td>v_id</td>\n",
       "      <td>0.006941</td>\n",
       "    </tr>\n",
       "    <tr>\n",
       "      <th>19</th>\n",
       "      <td>c_mnth</td>\n",
       "      <td>0.006276</td>\n",
       "    </tr>\n",
       "    <tr>\n",
       "      <th>20</th>\n",
       "      <td>c_year</td>\n",
       "      <td>0.000000</td>\n",
       "    </tr>\n",
       "    <tr>\n",
       "      <th>21</th>\n",
       "      <td>class</td>\n",
       "      <td>0.000000</td>\n",
       "    </tr>\n",
       "    <tr>\n",
       "      <th>22</th>\n",
       "      <td>c_case</td>\n",
       "      <td>0.000000</td>\n",
       "    </tr>\n",
       "  </tbody>\n",
       "</table>\n",
       "</div>"
      ],
      "text/plain": [
       "   Variable  % missing values\n",
       "0    p_safe         21.184630\n",
       "1    c_rcfg         10.663892\n",
       "2    v_year          9.889500\n",
       "3    c_conf          8.005487\n",
       "4    c_raln          7.525612\n",
       "5     p_age          6.751738\n",
       "6    p_isev          6.403822\n",
       "7    c_traf          5.312719\n",
       "8    v_type          4.892061\n",
       "9     p_sex          4.481134\n",
       "10   c_rsur          4.110980\n",
       "11   p_user          3.262206\n",
       "12    p_psn          1.988993\n",
       "13   c_wthr          1.708904\n",
       "14   c_hour          0.979213\n",
       "15     p_id          0.250998\n",
       "16   c_wday          0.020142\n",
       "17   c_vehs          0.008373\n",
       "18     v_id          0.006941\n",
       "19   c_mnth          0.006276\n",
       "20   c_year          0.000000\n",
       "21    class          0.000000\n",
       "22   c_case          0.000000"
      ]
     },
     "execution_count": 5,
     "metadata": {},
     "output_type": "execute_result"
    }
   ],
   "source": [
    "# Compute percentage of missing values\n",
    "missing_values = (df.isnull().sum()/df.shape[0])*100\n",
    "\n",
    "# Dataframe of missing values\n",
    "missing_df =pd.DataFrame({'Variable': missing_values.index, '% missing values': missing_values.values})\n",
    "missing_df.sort_values(by = '% missing values', ascending = False).reset_index(drop = True)"
   ]
  },
  {
   "cell_type": "markdown",
   "metadata": {},
   "source": [
    "#  Convert variables to the correct format\n",
    "Based on the data information, there are many categorical variables encoded as numbers. In this section, we will convert those categorical variables to the correct description to better understand the data"
   ]
  },
  {
   "cell_type": "markdown",
   "metadata": {},
   "source": [
    "# 1. Day of week"
   ]
  },
  {
   "cell_type": "code",
   "execution_count": 6,
   "metadata": {},
   "outputs": [
    {
     "name": "stdout",
     "output_type": "stream",
     "text": [
      "Originally encoded as: \n",
      "\n",
      " [1 2 3 4 5 6 7 '7' nan '1' '2' '3' '4' '5' '6']\n"
     ]
    }
   ],
   "source": [
    "print(\"Originally encoded as: \\n\\n\", df.c_wday.unique())"
   ]
  },
  {
   "cell_type": "code",
   "execution_count": 7,
   "metadata": {},
   "outputs": [],
   "source": [
    "week_dict = {'1': 'Monday','2': 'Tuesday','3':'Wednesday','4':'Thursday',\n",
    "             '5':'Friday', '6': 'Saturday', '7':'Sunday',1: 'Monday',2: 'Tuesday',3:'Wednesday',\n",
    "             4:'Thursday',5:'Friday', 6: 'Saturday', 7:'Sunday'} \n",
    "\n",
    "df['c_wday'].replace(week_dict, inplace = True) "
   ]
  },
  {
   "cell_type": "code",
   "execution_count": 8,
   "metadata": {},
   "outputs": [
    {
     "data": {
      "text/plain": [
       "Friday       1153278\n",
       "Thursday     1009002\n",
       "Saturday      992996\n",
       "Wednesday     957128\n",
       "Tuesday       947852\n",
       "Monday        898779\n",
       "Sunday        811369\n",
       "Name: c_wday, dtype: int64"
      ]
     },
     "execution_count": 8,
     "metadata": {},
     "output_type": "execute_result"
    }
   ],
   "source": [
    "df.c_wday.value_counts()"
   ]
  },
  {
   "cell_type": "markdown",
   "metadata": {},
   "source": [
    "# 2. Month of the year\n",
    "The months are encoded as integers ranging from 1 to 12"
   ]
  },
  {
   "cell_type": "code",
   "execution_count": 9,
   "metadata": {
    "scrolled": true
   },
   "outputs": [
    {
     "name": "stdout",
     "output_type": "stream",
     "text": [
      "Originally encoded as: \n",
      "\n",
      " [1 2 3 4 5 6 7 8 9 10 11 12 '12' nan '01' '02' '11']\n"
     ]
    }
   ],
   "source": [
    "print(\"Originally encoded as: \\n\\n\", df.c_mnth.unique())"
   ]
  },
  {
   "cell_type": "code",
   "execution_count": 10,
   "metadata": {},
   "outputs": [],
   "source": [
    "month_dict = {1: 'January', '01': 'January', 2: 'February','02': 'February',3: 'March', 4: 'April',\n",
    "             5:'May', 6: 'June', 7: 'July',8: 'August', 9: 'September',10: 'October', 11: 'November',\n",
    "              '11': 'November', 12: 'December', '12': 'December'}\n",
    "\n",
    "df['c_mnth'].replace(month_dict, inplace = True)"
   ]
  },
  {
   "cell_type": "code",
   "execution_count": 11,
   "metadata": {},
   "outputs": [
    {
     "data": {
      "text/plain": [
       "August       630095\n",
       "July         622005\n",
       "December     607222\n",
       "June         600280\n",
       "October      596261\n",
       "September    593249\n",
       "November     578431\n",
       "January      575819\n",
       "May          541550\n",
       "February     492663\n",
       "March        481073\n",
       "April        452695\n",
       "Name: c_mnth, dtype: int64"
      ]
     },
     "execution_count": 11,
     "metadata": {},
     "output_type": "execute_result"
    }
   ],
   "source": [
    "df.c_mnth.value_counts()"
   ]
  },
  {
   "cell_type": "markdown",
   "metadata": {},
   "source": [
    "# 3. Collision hour"
   ]
  },
  {
   "cell_type": "code",
   "execution_count": 12,
   "metadata": {
    "scrolled": true
   },
   "outputs": [
    {
     "name": "stdout",
     "output_type": "stream",
     "text": [
      "Originally encoded as: \n",
      "\n",
      " ['20' '08' '17' '15' '14' '01' '11' '13' '19' '16' '09' '02' '18' '12'\n",
      " '10' '23' '00' '06' '07' '21' nan '05' '22' '03' '04']\n"
     ]
    }
   ],
   "source": [
    "print(\"Originally encoded as: \\n\\n\", df.c_hour.unique())"
   ]
  },
  {
   "cell_type": "code",
   "execution_count": 13,
   "metadata": {},
   "outputs": [],
   "source": [
    "# Convert to numeric\n",
    "df['c_hour'] = pd.to_numeric(df['c_hour'], errors = 'coerce')"
   ]
  },
  {
   "cell_type": "code",
   "execution_count": 14,
   "metadata": {},
   "outputs": [
    {
     "data": {
      "text/plain": [
       "dtype('float64')"
      ]
     },
     "execution_count": 14,
     "metadata": {},
     "output_type": "execute_result"
    }
   ],
   "source": [
    "df.c_hour.dtypes"
   ]
  },
  {
   "cell_type": "markdown",
   "metadata": {},
   "source": [
    "# 4. Number of vehicles involved in collision\n",
    "The number of vehicles involved in an accident contains inconsistent numbering, e.g '01', '02', and so on. We  will correct this typos and convert the attribute to numeric"
   ]
  },
  {
   "cell_type": "code",
   "execution_count": 15,
   "metadata": {
    "scrolled": true
   },
   "outputs": [
    {
     "name": "stdout",
     "output_type": "stream",
     "text": [
      "Originally encoded as: \n",
      "\n",
      " ['02' '01' '03' '04' '06' '07' '09' nan '05' '13' '08' '12' '14' '10' '11'\n",
      " '16' 1 2 3 4 5 6 8 7 12 10 '26' '71' 19 25 9 '21' '27' '15' '35' 15 13 26\n",
      " '22' '41' 27 46 31 11 '18' 18 56 '23' 36 17 14 20 21 '19' 16 '29' '25' 77\n",
      " 28 38 '38' '17' '32' 35 22 33 '54' 72 '40' 44 58 '30' '77' '20' '24' '34'\n",
      " 24 39 '51' 57 43 37 47]\n"
     ]
    }
   ],
   "source": [
    "print(\"Originally encoded as: \\n\\n\", df.c_vehs.unique())"
   ]
  },
  {
   "cell_type": "code",
   "execution_count": 16,
   "metadata": {},
   "outputs": [],
   "source": [
    "df['c_vehs'].replace(['01','02','03','04','05','06','07','08','09'],[1,2,3,4,5,6,7,8,9], inplace = True)"
   ]
  },
  {
   "cell_type": "code",
   "execution_count": 17,
   "metadata": {},
   "outputs": [],
   "source": [
    "# Convert to numeric\n",
    "df['c_vehs'] = pd.to_numeric(df['c_vehs'],errors = 'coerce')"
   ]
  },
  {
   "cell_type": "code",
   "execution_count": 18,
   "metadata": {},
   "outputs": [
    {
     "data": {
      "text/plain": [
       "dtype('float64')"
      ]
     },
     "execution_count": 18,
     "metadata": {},
     "output_type": "execute_result"
    }
   ],
   "source": [
    "df.c_vehs.dtypes"
   ]
  },
  {
   "cell_type": "markdown",
   "metadata": {},
   "source": [
    "# 5. Collision configuration"
   ]
  },
  {
   "cell_type": "code",
   "execution_count": 19,
   "metadata": {},
   "outputs": [
    {
     "name": "stdout",
     "output_type": "stream",
     "text": [
      "Originally encoded as: \n",
      "\n",
      " ['34' '01' nan '04' '31' '21' '23' '03' '02' '33' '24' '35' '41' '06' '32'\n",
      " '36' '05' '22' '25']\n"
     ]
    }
   ],
   "source": [
    "print(\"Originally encoded as: \\n\\n\", df.c_conf.unique())"
   ]
  },
  {
   "cell_type": "code",
   "execution_count": 20,
   "metadata": {},
   "outputs": [],
   "source": [
    "coll_dict = {'01': 'Hit a moving object', '02': 'Hit a stationary object', '03': 'Ran off left shoulder',\n",
    "                 '04': 'Ran off right shoulder', '05': 'Rollover on roadway', '06': 'Any other single-vehicle ',\n",
    "                 '34': 'Right turn', '31': 'Head-on collision', '21': 'Rear-end collision', \n",
    "                  '23': 'left turn conflict', '33': 'Left turn across opposing traffic',\n",
    "                 '24': 'right turn conflict', '35': 'Right angle collision', '41': 'Hit a parked motor vehicle',\n",
    "                 '32': 'Approaching side-swipe', \n",
    "                  '36': 'Any other two-vehicle - different direction', '22': 'Side swipe', \n",
    "                  '25': 'Any other two-vehicle - same direction'}\n",
    "\n",
    "df['c_conf'].replace(coll_dict, inplace = True)"
   ]
  },
  {
   "cell_type": "code",
   "execution_count": 21,
   "metadata": {},
   "outputs": [
    {
     "data": {
      "text/plain": [
       "Rear-end collision                             2048187\n",
       "Right angle collision                           994356\n",
       "Any other single-vehicle                        596787\n",
       "Any other two-vehicle - different direction     513153\n",
       "Left turn across opposing traffic               487981\n",
       "Ran off right shoulder                          245421\n",
       "Side swipe                                      226414\n",
       "Hit a stationary object                         221779\n",
       "Head-on collision                               221672\n",
       "Ran off left shoulder                           187179\n",
       "Hit a moving object                             100895\n",
       "Hit a parked motor vehicle                       92825\n",
       "left turn conflict                               79584\n",
       "Right turn                                       67118\n",
       "right turn conflict                              60437\n",
       "Approaching side-swipe                           56616\n",
       "Rollover on roadway                              15335\n",
       "Any other two-vehicle - same direction           13916\n",
       "Name: c_conf, dtype: int64"
      ]
     },
     "execution_count": 21,
     "metadata": {},
     "output_type": "execute_result"
    }
   ],
   "source": [
    "df.c_conf.value_counts()"
   ]
  },
  {
   "cell_type": "markdown",
   "metadata": {},
   "source": [
    "# 6. Roadway configuration"
   ]
  },
  {
   "cell_type": "code",
   "execution_count": 22,
   "metadata": {
    "scrolled": true
   },
   "outputs": [
    {
     "name": "stdout",
     "output_type": "stream",
     "text": [
      "Originally encoded as:\n",
      "\n",
      " [nan '01' '02' '03' '05' '04' '06' '08' '07' '09' '10']\n"
     ]
    }
   ],
   "source": [
    "print(\"Originally encoded as:\\n\\n\", df.c_rcfg.unique())"
   ]
  },
  {
   "cell_type": "code",
   "execution_count": 23,
   "metadata": {},
   "outputs": [],
   "source": [
    "roadway_dict = {'01': 'Non-intersection', '02':'At an intersection', \n",
    "                '03': 'Intersection with parking lot entrance', '04': 'Railroad level crossing',\n",
    "               '05': 'Bridge, overpass, viaduct', '06': 'Tunnel or underpass', '07': 'Passing or climbing lane',\n",
    "               '08': 'Ramp', '09': 'Traffic circle', '10': 'Express lane of a freeway system'}\n",
    "\n",
    "df['c_rcfg'].replace(roadway_dict, inplace = True)"
   ]
  },
  {
   "cell_type": "code",
   "execution_count": 24,
   "metadata": {},
   "outputs": [
    {
     "data": {
      "text/plain": [
       "At an intersection                        3164171\n",
       "Non-intersection                          2450279\n",
       "Intersection with parking lot entrance     323644\n",
       "Bridge, overpass, viaduct                   59406\n",
       "Railroad level crossing                     26325\n",
       "Ramp                                        14372\n",
       "Tunnel or underpass                          7019\n",
       "Traffic circle                               2661\n",
       "Passing or climbing lane                     1123\n",
       "Express lane of a freeway system              634\n",
       "Name: c_rcfg, dtype: int64"
      ]
     },
     "execution_count": 24,
     "metadata": {},
     "output_type": "execute_result"
    }
   ],
   "source": [
    "df.c_rcfg.value_counts()"
   ]
  },
  {
   "cell_type": "markdown",
   "metadata": {},
   "source": [
    "# 7. Weather condition"
   ]
  },
  {
   "cell_type": "code",
   "execution_count": 25,
   "metadata": {},
   "outputs": [
    {
     "name": "stdout",
     "output_type": "stream",
     "text": [
      "Originally encoded as:\n",
      "\n",
      " ['1' '5' '3' '4' '7' '2' nan '6']\n"
     ]
    }
   ],
   "source": [
    "print(\"Originally encoded as:\\n\\n\", df.c_wthr.unique())"
   ]
  },
  {
   "cell_type": "code",
   "execution_count": 26,
   "metadata": {},
   "outputs": [],
   "source": [
    "wthr_dict = {'1': 'Clear and sunny', '2': 'Overcast, cloudy but no precipitation', '3': 'Raining',\n",
    "            '4': 'Snowing', '5': 'Freezing rain, sleet, hail', '6': 'Visibility limitation', '7': 'Strong wind'}\n",
    "\n",
    "df['c_wthr'].replace(wthr_dict, inplace = True)"
   ]
  },
  {
   "cell_type": "code",
   "execution_count": 27,
   "metadata": {
    "scrolled": true
   },
   "outputs": [
    {
     "data": {
      "text/plain": [
       "Clear and sunny                          4733176\n",
       "Overcast, cloudy but no precipitation     685980\n",
       "Raining                                   682240\n",
       "Snowing                                   406046\n",
       "Visibility limitation                      95945\n",
       "Freezing rain, sleet, hail                 34849\n",
       "Strong wind                                17809\n",
       "Name: c_wthr, dtype: int64"
      ]
     },
     "execution_count": 27,
     "metadata": {},
     "output_type": "execute_result"
    }
   ],
   "source": [
    "df.c_wthr.value_counts()"
   ]
  },
  {
   "cell_type": "markdown",
   "metadata": {},
   "source": [
    "# 8. Road surface"
   ]
  },
  {
   "cell_type": "code",
   "execution_count": 28,
   "metadata": {},
   "outputs": [
    {
     "name": "stdout",
     "output_type": "stream",
     "text": [
      "Originally encoded as:\n",
      "\n",
      " ['5' '3' '2' '4' '1' '6' nan '7' '9' '8']\n"
     ]
    }
   ],
   "source": [
    "print(\"Originally encoded as:\\n\\n\", df.c_rsur.unique())"
   ]
  },
  {
   "cell_type": "code",
   "execution_count": 29,
   "metadata": {},
   "outputs": [],
   "source": [
    "roadsur_dict = {'1':'Dry, normal', '2': 'Wet', '3': 'Snow', '4':'Slush', '5': 'Icy', '6':'Sand/gravel/dirt',\n",
    "               '7':'Muddy', '8': 'Oil', '9': 'Flooded'}\n",
    "\n",
    "df['c_rsur'].replace(roadsur_dict, inplace = True)"
   ]
  },
  {
   "cell_type": "code",
   "execution_count": 30,
   "metadata": {},
   "outputs": [
    {
     "data": {
      "text/plain": [
       "Dry, normal         4472490\n",
       "Wet                 1230478\n",
       "Icy                  371459\n",
       "Snow                 296579\n",
       "Slush                 84905\n",
       "Sand/gravel/dirt      29044\n",
       "Muddy                  6623\n",
       "Oil                    1372\n",
       "Flooded                 432\n",
       "Name: c_rsur, dtype: int64"
      ]
     },
     "execution_count": 30,
     "metadata": {},
     "output_type": "execute_result"
    }
   ],
   "source": [
    "df.c_rsur.value_counts()"
   ]
  },
  {
   "cell_type": "markdown",
   "metadata": {},
   "source": [
    "# 9. Road alignment"
   ]
  },
  {
   "cell_type": "code",
   "execution_count": 31,
   "metadata": {},
   "outputs": [
    {
     "name": "stdout",
     "output_type": "stream",
     "text": [
      "Originally encoded as:\n",
      "\n",
      " ['3' '6' '1' nan '2' '5' '4']\n"
     ]
    }
   ],
   "source": [
    "print(\"Originally encoded as:\\n\\n\", df.c_raln.unique())"
   ]
  },
  {
   "cell_type": "code",
   "execution_count": 32,
   "metadata": {},
   "outputs": [],
   "source": [
    "roadall_dist = {'1':'Straight and level', '2':'Straight with gradient', '3': 'Curved and level',\n",
    "               '4':'Curved with gradient', '5': 'Top of hill or gradient', '6': 'Bottom of hill or gradient'}\n",
    "\n",
    "df['c_raln'].replace(roadall_dist, inplace = True)"
   ]
  },
  {
   "cell_type": "code",
   "execution_count": 33,
   "metadata": {},
   "outputs": [
    {
     "data": {
      "text/plain": [
       "Straight and level            4846725\n",
       "Straight with gradient         663241\n",
       "Curved and level               415574\n",
       "Curved with gradient           252579\n",
       "Top of hill or gradient         48383\n",
       "Bottom of hill or gradient      35649\n",
       "Name: c_raln, dtype: int64"
      ]
     },
     "execution_count": 33,
     "metadata": {},
     "output_type": "execute_result"
    }
   ],
   "source": [
    "df.c_raln.value_counts()"
   ]
  },
  {
   "cell_type": "markdown",
   "metadata": {},
   "source": [
    "# 10. Traffic control"
   ]
  },
  {
   "cell_type": "code",
   "execution_count": 34,
   "metadata": {},
   "outputs": [
    {
     "name": "stdout",
     "output_type": "stream",
     "text": [
      "Originally encoded as:\n",
      "\n",
      " ['03' '18' '01' nan '06' '10' '05' '04' '11' '07' '08' '16' '17' '02' '13'\n",
      " '15' '09' '12']\n"
     ]
    }
   ],
   "source": [
    "print(\"Originally encoded as:\\n\\n\", df.c_traf.unique())"
   ]
  },
  {
   "cell_type": "code",
   "execution_count": 35,
   "metadata": {},
   "outputs": [],
   "source": [
    "tracon_dict ={'01': 'Traffic signals fully operational', '02': 'Traffic signals in flashing mode',\n",
    "             '03': 'Stop sign', '04': 'Yield sign', '05':'Warning sign', '06':'Pedestrian crosswalk',\n",
    "             '07': 'Police officer', '08': 'School guard, flagman', '09': 'School crossing',\n",
    "              '10': 'Reduced speed zone', '11': 'No passing zone sign', '12': 'Markings on the road',\n",
    "             '13': 'School bus stopped with school bus signal lights flashing',\n",
    "             '15':'Railway crossing with signals, or signals and gates',\n",
    "             '16': 'Railway crossing with signs only',\n",
    "             '17': 'Control device not specified', '18': 'No control present'}\n",
    "\n",
    "df['c_traf'].replace(tracon_dict, inplace = True)"
   ]
  },
  {
   "cell_type": "code",
   "execution_count": 36,
   "metadata": {},
   "outputs": [
    {
     "data": {
      "text/plain": [
       "No control present                                           3517741\n",
       "Traffic signals fully operational                            1896040\n",
       "Stop sign                                                     755000\n",
       "Yield sign                                                    105980\n",
       "Pedestrian crosswalk                                           52645\n",
       "School guard, flagman                                          28071\n",
       "Traffic signals in flashing mode                               22208\n",
       "School bus stopped with school bus signal lights flashing       4929\n",
       "Warning sign                                                    4611\n",
       "Control device not specified                                    4572\n",
       "Railway crossing with signals, or signals and gates             4451\n",
       "Markings on the road                                            4389\n",
       "No passing zone sign                                            3862\n",
       "Reduced speed zone                                              3160\n",
       "Police officer                                                  2655\n",
       "Railway crossing with signs only                                1052\n",
       "School crossing                                                  637\n",
       "Name: c_traf, dtype: int64"
      ]
     },
     "execution_count": 36,
     "metadata": {},
     "output_type": "execute_result"
    }
   ],
   "source": [
    "df.c_traf.value_counts()"
   ]
  },
  {
   "cell_type": "markdown",
   "metadata": {},
   "source": [
    "# 11. Vehicle sequence number\n",
    "There is a mismatch in the vehicle sequence number, e.g. '01' is 1, '02' is 2 and so on"
   ]
  },
  {
   "cell_type": "code",
   "execution_count": 37,
   "metadata": {
    "scrolled": true
   },
   "outputs": [
    {
     "name": "stdout",
     "output_type": "stream",
     "text": [
      "Originally encoded as: \n",
      "\n",
      " ['01' '02' '99' '03' '04' nan '05' '06' '07' '08' '09' '10' '11' '12' '13'\n",
      " '14' '15' '16' '17' '18' '19' '20' '21' '22' '23' '24' '25' '26' '27'\n",
      " '28' '29' '30' '31' '32' '33' '34' '35' '36' '37' '38' '39' '40' '41'\n",
      " '42' '43' '44' '45' '46' '47' '48' '49' '50' '51' '52' '53' '54' '55'\n",
      " '56' '57' '58' '59' '60' '61' '62' '63' '64' '65' '66' '67' '68' '69'\n",
      " '70' '71' 2 1 99 3 4 5 6 7 8 9 10 11 12 13 14 15 16 17 18 19 20 21 22 23\n",
      " 24 25 26 27 28 29 30 31 32 33 34 35 36 37 38 39 40 41 '72' '73' '74' '83'\n",
      " '85' '86' '75' '76' '77' 42 43 44 45 46 47 48 49 51 52 50 53 54 55 56 57]\n"
     ]
    }
   ],
   "source": [
    "print(\"Originally encoded as: \\n\\n\", df.v_id.unique())"
   ]
  },
  {
   "cell_type": "code",
   "execution_count": 38,
   "metadata": {},
   "outputs": [],
   "source": [
    "df['v_id'].replace(['01','02','03','04','05','06', '07','08','09'],\n",
    "                               [1,2,3,4,5,6,7,8,9], inplace = True)"
   ]
  },
  {
   "cell_type": "code",
   "execution_count": 39,
   "metadata": {},
   "outputs": [],
   "source": [
    "# Convert to numeric\n",
    "df['v_id'] = pd.to_numeric(df['v_id'], errors ='coerce')"
   ]
  },
  {
   "cell_type": "markdown",
   "metadata": {},
   "source": [
    "# 12. Vehicle type"
   ]
  },
  {
   "cell_type": "code",
   "execution_count": 40,
   "metadata": {},
   "outputs": [
    {
     "name": "stdout",
     "output_type": "stream",
     "text": [
      "Originally encoded as: \n",
      "\n",
      " ['06' '01' nan '11' '20' '17' '07' '08' '09' '22' '14' '23' '05' '16' '19'\n",
      " '18' '10' '21']\n"
     ]
    }
   ],
   "source": [
    "print(\"Originally encoded as: \\n\\n\", df.v_type.unique())"
   ]
  },
  {
   "cell_type": "code",
   "execution_count": 41,
   "metadata": {},
   "outputs": [],
   "source": [
    "vehtype_dict ={'01': 'Light Duty Vehicle', '06': 'Other trucks and vans', '11': 'Urban and Intercity Bus',\n",
    "              '20': 'Construction equipment', '17': 'Bicycle', '07': 'Unit trucks', '08': 'Road tractor',\n",
    "              '09': 'School bus', '22': 'Snowmobile', '14': 'Motorcycle and moped', '23': 'Street car',\n",
    "              '05': 'Panel/cargo van', '16': 'Off road vehicles', \n",
    "               '19': 'Farm equipment', '18': 'Purpose-built motorhome',\n",
    "              '10': 'Smaller school bus', '21': 'Fire engine'}\n",
    "\n",
    "df['v_type'].replace(vehtype_dict, inplace = True)"
   ]
  },
  {
   "cell_type": "code",
   "execution_count": 42,
   "metadata": {},
   "outputs": [
    {
     "data": {
      "text/plain": [
       "Light Duty Vehicle         5581069\n",
       "Other trucks and vans       193087\n",
       "Motorcycle and moped        144140\n",
       "Bicycle                     141776\n",
       "Unit trucks                 101481\n",
       "Road tractor                 81219\n",
       "Panel/cargo van              75875\n",
       "Urban and Intercity Bus      59947\n",
       "School bus                   25546\n",
       "Off road vehicles            11135\n",
       "Construction equipment        8807\n",
       "Snowmobile                    5057\n",
       "Purpose-built motorhome       3540\n",
       "Street car                    3451\n",
       "Farm equipment                2323\n",
       "Smaller school bus            1087\n",
       "Fire engine                    949\n",
       "Name: v_type, dtype: int64"
      ]
     },
     "execution_count": 42,
     "metadata": {},
     "output_type": "execute_result"
    }
   ],
   "source": [
    "df.v_type.value_counts()"
   ]
  },
  {
   "cell_type": "markdown",
   "metadata": {},
   "source": [
    "# 13. Vehicle model year"
   ]
  },
  {
   "cell_type": "code",
   "execution_count": 43,
   "metadata": {
    "scrolled": true
   },
   "outputs": [
    {
     "name": "stdout",
     "output_type": "stream",
     "text": [
      "Originally encoded as: \n",
      "\n",
      " ['1990' '1987' '1986' nan '1984' '1991' '1992' '1997' '1993' '1985' '1988'\n",
      " '1994' '1995' '1998' '1989' '1996' '1983' '1999' '1965' '1977' '1978'\n",
      " '1968' '1981' '1979' '1976' '1972' '2000' '1982' '1975' '1973' '1974'\n",
      " '1980' '1967' '1970' '1971' '1962' '1969' '1966' '1945' '1963' '1960'\n",
      " '1950' '1964' '1959' '1955' '1958' '1903' '1909' '1949' '1923' '1961'\n",
      " '1914' '1908' '1953' '1906' '1939' '1925' '1948' '1938' '1907' '1952'\n",
      " '1904' '1917' '1912' '1944' '1956' '1930' '1931' '1951' '1946' '1947'\n",
      " '1957' '1954' '1943' '1901' '1937' '1905' '1935' '1926' '1941' '1932'\n",
      " '1920' '1933' '1919' '1915' '1929' '1928' '2001' '1913' '1940' '1927'\n",
      " '2002' '1916' '1942' '1918' '2003' '1924' '1922' '1934' '2004' '2005'\n",
      " '2006' '2007' '2008' '1911' '2009' '2010' '2011' '1936' '2012' '1910'\n",
      " '1921' '2013' '2014' '2015' '2016' '2017' '2018']\n"
     ]
    }
   ],
   "source": [
    "print(\"Originally encoded as: \\n\\n\", df.v_year.unique())"
   ]
  },
  {
   "cell_type": "code",
   "execution_count": 44,
   "metadata": {},
   "outputs": [],
   "source": [
    "# Convert to numeric\n",
    "df['v_year'] = pd.to_numeric(df['v_year'], errors = 'coerce')"
   ]
  },
  {
   "cell_type": "code",
   "execution_count": 45,
   "metadata": {},
   "outputs": [
    {
     "data": {
      "text/plain": [
       "2000.0    341453\n",
       "2002.0    323149\n",
       "2003.0    317580\n",
       "1998.0    306083\n",
       "2001.0    300347\n",
       "Name: v_year, dtype: int64"
      ]
     },
     "execution_count": 45,
     "metadata": {},
     "output_type": "execute_result"
    }
   ],
   "source": [
    "df['v_year'].value_counts().head()"
   ]
  },
  {
   "cell_type": "markdown",
   "metadata": {},
   "source": [
    "# 14. Person sequence ID"
   ]
  },
  {
   "cell_type": "code",
   "execution_count": 46,
   "metadata": {
    "scrolled": true
   },
   "outputs": [
    {
     "name": "stdout",
     "output_type": "stream",
     "text": [
      "Originally encoded as: \n",
      "\n",
      " ['01' '02' '03' '04' '05' '06' nan '07' '08' '09' '10' '11' '12' '13' '14'\n",
      " '15' '16' '17' '18' '19' '20' '21' '22' '23' '24' '25' '26' '27' '28'\n",
      " '29' '30' '31' '32' '33' '34' '35' '36' '37' '38' '39' '40' '41' '42'\n",
      " '43' '44' '45' '46' '47' '48' '49' '50' '51' '52' '53' '54' '55' '56'\n",
      " '57' '58' '59' '60' '61' '62' '63' '64' '65' '66' '67' '68' '69' '70'\n",
      " '71' '72' '73' '74' '75' '76' '77' '78' '79' '80' '81' '82' '83' '84'\n",
      " '85' '86' '87' '88' '89' '90' '91' '92' '93' '94' '95' '99']\n"
     ]
    }
   ],
   "source": [
    "print(\"Originally encoded as: \\n\\n\", df.p_id.unique())"
   ]
  },
  {
   "cell_type": "code",
   "execution_count": 47,
   "metadata": {},
   "outputs": [],
   "source": [
    "df['p_id'].replace(['01', '02','03','04','05','06','07','08','09'],\n",
    "                               [1,2,3,4,5,6,7,8,9], inplace = True)"
   ]
  },
  {
   "cell_type": "code",
   "execution_count": 48,
   "metadata": {},
   "outputs": [],
   "source": [
    "# Convert to numeric\n",
    "df['p_id'] = pd.to_numeric(df['p_id'], errors = 'coerce')"
   ]
  },
  {
   "cell_type": "code",
   "execution_count": 49,
   "metadata": {},
   "outputs": [
    {
     "data": {
      "text/plain": [
       "dtype('float64')"
      ]
     },
     "execution_count": 49,
     "metadata": {},
     "output_type": "execute_result"
    }
   ],
   "source": [
    "df.p_id.dtypes"
   ]
  },
  {
   "cell_type": "markdown",
   "metadata": {},
   "source": [
    "# 15. Gender\n",
    "More males are involved in vehicle collision than females"
   ]
  },
  {
   "cell_type": "code",
   "execution_count": 50,
   "metadata": {},
   "outputs": [
    {
     "name": "stdout",
     "output_type": "stream",
     "text": [
      "Originally encoded as: \n",
      "\n",
      " ['M' 'F' nan]\n"
     ]
    }
   ],
   "source": [
    "print(\"Originally encoded as: \\n\\n\", df.p_sex.unique())"
   ]
  },
  {
   "cell_type": "markdown",
   "metadata": {},
   "source": [
    "# 16. Person age"
   ]
  },
  {
   "cell_type": "code",
   "execution_count": 51,
   "metadata": {},
   "outputs": [
    {
     "name": "stdout",
     "output_type": "stream",
     "text": [
      "Originally encoded as: \n",
      "\n",
      " ['41' '19' '20' '46' '05' '28' '21' nan '61' '56' '34' '22' '30' '49' '32'\n",
      " '31' '68' '08' '45' '17' '33' '82' '39' '37' '55' '38' '43' '35' '23'\n",
      " '25' '65' '44' '36' '70' '50' '40' '27' '26' '15' '53' '16' '13' '14'\n",
      " '12' '18' '77' '86' '42' '24' '47' '62' '06' '57' '83' '74' '67' '51'\n",
      " '29' '01' '02' '54' '71' '10' '79' '63' '58' '48' '60' '07' '64' '75'\n",
      " '52' '85' '93' '92' '69' '72' '11' '59' '09' '66' '76' '73' '04' '78'\n",
      " '80' '84' '03' '81' '89' '87' '88' '90' '91' '95' '97' '94' '99' '98'\n",
      " '96']\n"
     ]
    }
   ],
   "source": [
    "print(\"Originally encoded as: \\n\\n\", df.p_age.unique())"
   ]
  },
  {
   "cell_type": "code",
   "execution_count": 52,
   "metadata": {},
   "outputs": [],
   "source": [
    "df['p_age'].replace(['01','02','03','04', '05', '06','07','08','09'],\n",
    "                                 [1,2,3,4,5,6,7,8,9], inplace = True)"
   ]
  },
  {
   "cell_type": "code",
   "execution_count": 53,
   "metadata": {},
   "outputs": [],
   "source": [
    "# Convert to numeric\n",
    "df['p_age'] = pd.to_numeric(df['p_age'], errors = 'coerce')"
   ]
  },
  {
   "cell_type": "code",
   "execution_count": 54,
   "metadata": {
    "scrolled": true
   },
   "outputs": [
    {
     "data": {
      "text/plain": [
       "dtype('float64')"
      ]
     },
     "execution_count": 54,
     "metadata": {},
     "output_type": "execute_result"
    }
   ],
   "source": [
    "df.p_age.dtypes"
   ]
  },
  {
   "cell_type": "markdown",
   "metadata": {},
   "source": [
    "# 17. Person position"
   ]
  },
  {
   "cell_type": "code",
   "execution_count": 55,
   "metadata": {
    "scrolled": true
   },
   "outputs": [
    {
     "name": "stdout",
     "output_type": "stream",
     "text": [
      "Originally encoded as: \n",
      "\n",
      " ['11' '13' '99' '23' '98' '21' '22' '12' nan '96' '32' '31' '33' '97']\n"
     ]
    }
   ],
   "source": [
    "print(\"Originally encoded as: \\n\\n\", df.p_psn.unique())"
   ]
  },
  {
   "cell_type": "code",
   "execution_count": 56,
   "metadata": {},
   "outputs": [],
   "source": [
    "perpos_dict = {'11': 'Driver', '13': 'Front row, right outboard',\n",
    "               '99': 'Pedestrian', '23': 'Second row, right outboard',\n",
    "              '98': 'Outside passenger compartment', '21': 'Second row, left outboard',\n",
    "              '22': 'Second row, center', '12': 'Front row, center', '96': 'Position unknown',\n",
    "              '32': 'Third row, center', '31': 'Third row, left outboard',\n",
    "              '33': 'Third row, right outboard', '97': 'Sitting on someone’s lap'}\n",
    "\n",
    "df['p_psn'].replace(perpos_dict, inplace = True)"
   ]
  },
  {
   "cell_type": "code",
   "execution_count": 57,
   "metadata": {},
   "outputs": [
    {
     "data": {
      "text/plain": [
       "Driver                           4544987\n",
       "Front row, right outboard        1001423\n",
       "Second row, right outboard        295297\n",
       "Second row, left outboard         247300\n",
       "Pedestrian                        244407\n",
       "Second row, center                100112\n",
       "Front row, center                  97032\n",
       "Position unknown                   52810\n",
       "Third row, center                  33461\n",
       "Outside passenger compartment       7376\n",
       "Third row, right outboard           7039\n",
       "Third row, left outboard            5536\n",
       "Sitting on someone’s lap             298\n",
       "Name: p_psn, dtype: int64"
      ]
     },
     "execution_count": 57,
     "metadata": {},
     "output_type": "execute_result"
    }
   ],
   "source": [
    "df.p_psn.value_counts()"
   ]
  },
  {
   "cell_type": "markdown",
   "metadata": {},
   "source": [
    "# 18. Medical treatment required"
   ]
  },
  {
   "cell_type": "code",
   "execution_count": 58,
   "metadata": {
    "scrolled": true
   },
   "outputs": [
    {
     "name": "stdout",
     "output_type": "stream",
     "text": [
      "Originally encoded as: \n",
      "\n",
      " ['1' '2' '3' nan]\n"
     ]
    }
   ],
   "source": [
    "print(\"Originally encoded as: \\n\\n\", df.p_isev.unique())"
   ]
  },
  {
   "cell_type": "code",
   "execution_count": 59,
   "metadata": {},
   "outputs": [],
   "source": [
    "med_dict = {'1': 'No Injury', '2': 'Injury', '3': 'Fatality'}\n",
    "\n",
    "df['p_isev'].replace(med_dict,inplace = True)"
   ]
  },
  {
   "cell_type": "code",
   "execution_count": 60,
   "metadata": {},
   "outputs": [
    {
     "data": {
      "text/plain": [
       "Injury       3547554\n",
       "No Injury    2744546\n",
       "Fatality       46016\n",
       "Name: p_isev, dtype: int64"
      ]
     },
     "execution_count": 60,
     "metadata": {},
     "output_type": "execute_result"
    }
   ],
   "source": [
    "df.p_isev.value_counts()"
   ]
  },
  {
   "cell_type": "markdown",
   "metadata": {},
   "source": [
    "# 19. Safety device used"
   ]
  },
  {
   "cell_type": "code",
   "execution_count": 61,
   "metadata": {},
   "outputs": [
    {
     "name": "stdout",
     "output_type": "stream",
     "text": [
      "Originally encoded as: \n",
      "\n",
      " [nan '02' '01' '13' '12' '09' '10' '11']\n"
     ]
    }
   ],
   "source": [
    "print(\"Originally encoded as: \\n\\n\", df.p_safe.unique())"
   ]
  },
  {
   "cell_type": "code",
   "execution_count": 62,
   "metadata": {},
   "outputs": [],
   "source": [
    "safe_dict = {'02': 'Safety device used', '01': 'No safety device used', '13': 'No safety device equipped',\n",
    "            '12': 'Other safety device used', '09': 'Helmet worn', '10': 'Reflective clothing worn',\n",
    "            '11': 'Both helmet and reflective clothing used'}\n",
    "\n",
    "df['p_safe'].replace(safe_dict, inplace = True)"
   ]
  },
  {
   "cell_type": "code",
   "execution_count": 63,
   "metadata": {},
   "outputs": [
    {
     "data": {
      "text/plain": [
       "Safety device used                          4806072\n",
       "No safety device used                        221621\n",
       "No safety device equipped                    159316\n",
       "Helmet worn                                  120101\n",
       "Other safety device used                      29803\n",
       "Reflective clothing worn                        267\n",
       "Both helmet and reflective clothing used         14\n",
       "Name: p_safe, dtype: int64"
      ]
     },
     "execution_count": 63,
     "metadata": {},
     "output_type": "execute_result"
    }
   ],
   "source": [
    "df.p_safe.value_counts()"
   ]
  },
  {
   "cell_type": "markdown",
   "metadata": {},
   "source": [
    "# 20. Road user class"
   ]
  },
  {
   "cell_type": "code",
   "execution_count": 64,
   "metadata": {},
   "outputs": [
    {
     "name": "stdout",
     "output_type": "stream",
     "text": [
      "Originally encoded as: \n",
      "\n",
      " ['1' '2' '3' nan '4' '5']\n"
     ]
    }
   ],
   "source": [
    "print(\"Originally encoded as: \\n\\n\", df.p_user.unique())"
   ]
  },
  {
   "cell_type": "code",
   "execution_count": 65,
   "metadata": {},
   "outputs": [],
   "source": [
    "roaduser_dict = {'1': 'Motor Vehicle Driver', '2': 'Motor Vehicle Passenger', '3': 'Pedestrian',\n",
    "                '4': 'Bicyclist', '5': 'Motorcyclist'}\n",
    "\n",
    "df['p_user'].replace(roaduser_dict, inplace = True)"
   ]
  },
  {
   "cell_type": "code",
   "execution_count": 66,
   "metadata": {},
   "outputs": [
    {
     "data": {
      "text/plain": [
       "Motor Vehicle Driver       4234272\n",
       "Motor Vehicle Passenger    1772482\n",
       "Pedestrian                  258189\n",
       "Motorcyclist                144140\n",
       "Bicyclist                   141776\n",
       "Name: p_user, dtype: int64"
      ]
     },
     "execution_count": 66,
     "metadata": {},
     "output_type": "execute_result"
    }
   ],
   "source": [
    "df.p_user.value_counts()"
   ]
  },
  {
   "cell_type": "markdown",
   "metadata": {},
   "source": [
    "# Class distribution\n",
    "The class variable is encoded as integers 1 and 2, where 1 represents fatal accidents and 2 represents non-fatal accidents. It is useful to change the class variable as a binary class, by replacing 2 with 0."
   ]
  },
  {
   "cell_type": "code",
   "execution_count": 67,
   "metadata": {},
   "outputs": [
    {
     "data": {
      "text/plain": [
       "array([2, 1])"
      ]
     },
     "execution_count": 67,
     "metadata": {},
     "output_type": "execute_result"
    }
   ],
   "source": [
    "df['class'].unique() # Originally encoded"
   ]
  },
  {
   "cell_type": "code",
   "execution_count": 68,
   "metadata": {},
   "outputs": [],
   "source": [
    "df['class'].replace(2, 0, inplace = True) "
   ]
  },
  {
   "cell_type": "markdown",
   "metadata": {},
   "source": [
    "# Percentage of the class distribution\n",
    "- This is an extremely imbalanced class problem, where the class of interest (in this case fatal accidents) is extremely small compared to the other class \n",
    "\n",
    "- The majority (negative) class contains 98% of the class distribution, whereas the minority (positive) class is only 2% of the class distribution. "
   ]
  },
  {
   "cell_type": "code",
   "execution_count": 69,
   "metadata": {},
   "outputs": [
    {
     "name": "stdout",
     "output_type": "stream",
     "text": [
      "Percentage of males and females involved in collions\n",
      "0    98.33906\n",
      "1     1.66094\n",
      "Name: class, dtype: float64\n"
     ]
    }
   ],
   "source": [
    "print('Percentage of males and females involved in collions')\n",
    "print(df['class'].value_counts(normalize=True)*100)"
   ]
  },
  {
   "cell_type": "markdown",
   "metadata": {},
   "source": [
    "# Save as csv dataframe"
   ]
  },
  {
   "cell_type": "code",
   "execution_count": 70,
   "metadata": {},
   "outputs": [],
   "source": [
    "df.to_csv('../data/clean_data.csv', index= False)"
   ]
  }
 ],
 "metadata": {
  "kernelspec": {
   "display_name": "Python 3",
   "language": "python",
   "name": "python3"
  },
  "language_info": {
   "codemirror_mode": {
    "name": "ipython",
    "version": 3
   },
   "file_extension": ".py",
   "mimetype": "text/x-python",
   "name": "python",
   "nbconvert_exporter": "python",
   "pygments_lexer": "ipython3",
   "version": "3.9.4"
  },
  "metadata": {
   "interpreter": {
    "hash": "aee8b7b246df8f9039afb4144a1f6fd8d2ca17a180786b69acc140d282b71a49"
   }
  }
 },
 "nbformat": 4,
 "nbformat_minor": 4
}
