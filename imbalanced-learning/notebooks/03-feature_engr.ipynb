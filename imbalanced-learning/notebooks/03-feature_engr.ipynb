{
 "cells": [
  {
   "cell_type": "markdown",
   "metadata": {},
   "source": [
    "# Feature Engineering\n",
    "In this notebook, we will engineer count based and indicator features from the existing features. "
   ]
  },
  {
   "cell_type": "code",
   "execution_count": 1,
   "metadata": {},
   "outputs": [],
   "source": [
    "# Ignore deprecated warning\n",
    "import warnings\n",
    "warnings.filterwarnings(\"ignore\")\n",
    "\n",
    "# Data manipulation\n",
    "%matplotlib inline\n",
    "import pandas as pd\n",
    "import numpy as np\n",
    "import time\n",
    "\n",
    "# Data visualization\n",
    "import matplotlib.pyplot as plt\n",
    "import seaborn as sns\n",
    "\n",
    "# Set font scale and style\n",
    "plt.rcParams.update({'font.size': 15})"
   ]
  },
  {
   "cell_type": "markdown",
   "metadata": {},
   "source": [
    " #  Load  data"
   ]
  },
  {
   "cell_type": "code",
   "execution_count": 2,
   "metadata": {},
   "outputs": [
    {
     "name": "stdout",
     "output_type": "stream",
     "text": [
      "Data size: (6771768, 23)\n"
     ]
    },
    {
     "data": {
      "text/html": [
       "<div>\n",
       "<style scoped>\n",
       "    .dataframe tbody tr th:only-of-type {\n",
       "        vertical-align: middle;\n",
       "    }\n",
       "\n",
       "    .dataframe tbody tr th {\n",
       "        vertical-align: top;\n",
       "    }\n",
       "\n",
       "    .dataframe thead th {\n",
       "        text-align: right;\n",
       "    }\n",
       "</style>\n",
       "<table border=\"1\" class=\"dataframe\">\n",
       "  <thead>\n",
       "    <tr style=\"text-align: right;\">\n",
       "      <th></th>\n",
       "      <th>c_year</th>\n",
       "      <th>c_mnth</th>\n",
       "      <th>c_wday</th>\n",
       "      <th>c_hour</th>\n",
       "      <th>class</th>\n",
       "      <th>c_vehs</th>\n",
       "      <th>c_conf</th>\n",
       "      <th>c_rcfg</th>\n",
       "      <th>c_wthr</th>\n",
       "      <th>c_rsur</th>\n",
       "      <th>...</th>\n",
       "      <th>v_type</th>\n",
       "      <th>v_year</th>\n",
       "      <th>p_id</th>\n",
       "      <th>p_sex</th>\n",
       "      <th>p_age</th>\n",
       "      <th>p_psn</th>\n",
       "      <th>p_isev</th>\n",
       "      <th>p_safe</th>\n",
       "      <th>p_user</th>\n",
       "      <th>c_case</th>\n",
       "    </tr>\n",
       "  </thead>\n",
       "  <tbody>\n",
       "    <tr>\n",
       "      <th>0</th>\n",
       "      <td>1999</td>\n",
       "      <td>January</td>\n",
       "      <td>Monday</td>\n",
       "      <td>20.0</td>\n",
       "      <td>0</td>\n",
       "      <td>2.0</td>\n",
       "      <td>Right turn</td>\n",
       "      <td>NaN</td>\n",
       "      <td>Clear and sunny</td>\n",
       "      <td>Icy</td>\n",
       "      <td>...</td>\n",
       "      <td>Other trucks and vans</td>\n",
       "      <td>1990.0</td>\n",
       "      <td>1.0</td>\n",
       "      <td>M</td>\n",
       "      <td>41.0</td>\n",
       "      <td>Driver</td>\n",
       "      <td>No Injury</td>\n",
       "      <td>NaN</td>\n",
       "      <td>Motor Vehicle Driver</td>\n",
       "      <td>752</td>\n",
       "    </tr>\n",
       "    <tr>\n",
       "      <th>1</th>\n",
       "      <td>1999</td>\n",
       "      <td>January</td>\n",
       "      <td>Monday</td>\n",
       "      <td>20.0</td>\n",
       "      <td>0</td>\n",
       "      <td>2.0</td>\n",
       "      <td>Right turn</td>\n",
       "      <td>NaN</td>\n",
       "      <td>Clear and sunny</td>\n",
       "      <td>Icy</td>\n",
       "      <td>...</td>\n",
       "      <td>Light Duty Vehicle</td>\n",
       "      <td>1987.0</td>\n",
       "      <td>1.0</td>\n",
       "      <td>M</td>\n",
       "      <td>19.0</td>\n",
       "      <td>Driver</td>\n",
       "      <td>No Injury</td>\n",
       "      <td>NaN</td>\n",
       "      <td>Motor Vehicle Driver</td>\n",
       "      <td>752</td>\n",
       "    </tr>\n",
       "    <tr>\n",
       "      <th>2</th>\n",
       "      <td>1999</td>\n",
       "      <td>January</td>\n",
       "      <td>Monday</td>\n",
       "      <td>20.0</td>\n",
       "      <td>0</td>\n",
       "      <td>2.0</td>\n",
       "      <td>Right turn</td>\n",
       "      <td>NaN</td>\n",
       "      <td>Clear and sunny</td>\n",
       "      <td>Icy</td>\n",
       "      <td>...</td>\n",
       "      <td>Light Duty Vehicle</td>\n",
       "      <td>1987.0</td>\n",
       "      <td>2.0</td>\n",
       "      <td>F</td>\n",
       "      <td>20.0</td>\n",
       "      <td>Front row, right outboard</td>\n",
       "      <td>Injury</td>\n",
       "      <td>Safety device used</td>\n",
       "      <td>Motor Vehicle Passenger</td>\n",
       "      <td>752</td>\n",
       "    </tr>\n",
       "    <tr>\n",
       "      <th>3</th>\n",
       "      <td>1999</td>\n",
       "      <td>January</td>\n",
       "      <td>Monday</td>\n",
       "      <td>8.0</td>\n",
       "      <td>0</td>\n",
       "      <td>1.0</td>\n",
       "      <td>Hit a moving object</td>\n",
       "      <td>NaN</td>\n",
       "      <td>Freezing rain, sleet, hail</td>\n",
       "      <td>Snow</td>\n",
       "      <td>...</td>\n",
       "      <td>Light Duty Vehicle</td>\n",
       "      <td>1986.0</td>\n",
       "      <td>1.0</td>\n",
       "      <td>M</td>\n",
       "      <td>46.0</td>\n",
       "      <td>Driver</td>\n",
       "      <td>No Injury</td>\n",
       "      <td>NaN</td>\n",
       "      <td>Motor Vehicle Driver</td>\n",
       "      <td>753</td>\n",
       "    </tr>\n",
       "    <tr>\n",
       "      <th>4</th>\n",
       "      <td>1999</td>\n",
       "      <td>January</td>\n",
       "      <td>Monday</td>\n",
       "      <td>8.0</td>\n",
       "      <td>0</td>\n",
       "      <td>1.0</td>\n",
       "      <td>Hit a moving object</td>\n",
       "      <td>NaN</td>\n",
       "      <td>Freezing rain, sleet, hail</td>\n",
       "      <td>Snow</td>\n",
       "      <td>...</td>\n",
       "      <td>NaN</td>\n",
       "      <td>NaN</td>\n",
       "      <td>1.0</td>\n",
       "      <td>M</td>\n",
       "      <td>5.0</td>\n",
       "      <td>Pedestrian</td>\n",
       "      <td>Injury</td>\n",
       "      <td>NaN</td>\n",
       "      <td>Pedestrian</td>\n",
       "      <td>753</td>\n",
       "    </tr>\n",
       "  </tbody>\n",
       "</table>\n",
       "<p>5 rows × 23 columns</p>\n",
       "</div>"
      ],
      "text/plain": [
       "   c_year   c_mnth  c_wday  c_hour  class  c_vehs               c_conf c_rcfg  \\\n",
       "0    1999  January  Monday    20.0      0     2.0           Right turn    NaN   \n",
       "1    1999  January  Monday    20.0      0     2.0           Right turn    NaN   \n",
       "2    1999  January  Monday    20.0      0     2.0           Right turn    NaN   \n",
       "3    1999  January  Monday     8.0      0     1.0  Hit a moving object    NaN   \n",
       "4    1999  January  Monday     8.0      0     1.0  Hit a moving object    NaN   \n",
       "\n",
       "                       c_wthr c_rsur  ...                 v_type  v_year  \\\n",
       "0             Clear and sunny    Icy  ...  Other trucks and vans  1990.0   \n",
       "1             Clear and sunny    Icy  ...     Light Duty Vehicle  1987.0   \n",
       "2             Clear and sunny    Icy  ...     Light Duty Vehicle  1987.0   \n",
       "3  Freezing rain, sleet, hail   Snow  ...     Light Duty Vehicle  1986.0   \n",
       "4  Freezing rain, sleet, hail   Snow  ...                    NaN     NaN   \n",
       "\n",
       "   p_id p_sex  p_age                      p_psn     p_isev  \\\n",
       "0   1.0     M   41.0                     Driver  No Injury   \n",
       "1   1.0     M   19.0                     Driver  No Injury   \n",
       "2   2.0     F   20.0  Front row, right outboard     Injury   \n",
       "3   1.0     M   46.0                     Driver  No Injury   \n",
       "4   1.0     M    5.0                 Pedestrian     Injury   \n",
       "\n",
       "               p_safe                   p_user c_case  \n",
       "0                 NaN     Motor Vehicle Driver    752  \n",
       "1                 NaN     Motor Vehicle Driver    752  \n",
       "2  Safety device used  Motor Vehicle Passenger    752  \n",
       "3                 NaN     Motor Vehicle Driver    753  \n",
       "4                 NaN               Pedestrian    753  \n",
       "\n",
       "[5 rows x 23 columns]"
      ]
     },
     "execution_count": 2,
     "metadata": {},
     "output_type": "execute_result"
    }
   ],
   "source": [
    "df = pd.read_csv('../data/clean_data.csv')\n",
    "print('Data size:', df.shape)\n",
    "df.head()"
   ]
  },
  {
   "cell_type": "code",
   "execution_count": 3,
   "metadata": {},
   "outputs": [
    {
     "name": "stdout",
     "output_type": "stream",
     "text": [
      "<class 'pandas.core.frame.DataFrame'>\n",
      "RangeIndex: 6771768 entries, 0 to 6771767\n",
      "Data columns (total 23 columns):\n",
      " #   Column  Dtype  \n",
      "---  ------  -----  \n",
      " 0   c_year  int64  \n",
      " 1   c_mnth  object \n",
      " 2   c_wday  object \n",
      " 3   c_hour  float64\n",
      " 4   class   int64  \n",
      " 5   c_vehs  float64\n",
      " 6   c_conf  object \n",
      " 7   c_rcfg  object \n",
      " 8   c_wthr  object \n",
      " 9   c_rsur  object \n",
      " 10  c_raln  object \n",
      " 11  c_traf  object \n",
      " 12  v_id    float64\n",
      " 13  v_type  object \n",
      " 14  v_year  float64\n",
      " 15  p_id    float64\n",
      " 16  p_sex   object \n",
      " 17  p_age   float64\n",
      " 18  p_psn   object \n",
      " 19  p_isev  object \n",
      " 20  p_safe  object \n",
      " 21  p_user  object \n",
      " 22  c_case  int64  \n",
      "dtypes: float64(6), int64(3), object(14)\n",
      "memory usage: 1.2+ GB\n"
     ]
    }
   ],
   "source": [
    "df.info()"
   ]
  },
  {
   "cell_type": "markdown",
   "metadata": {},
   "source": [
    "# 1. Day, month, and year count"
   ]
  },
  {
   "cell_type": "code",
   "execution_count": 4,
   "metadata": {},
   "outputs": [],
   "source": [
    "# Day count\n",
    "df_day = pd.DataFrame(df.c_wday.value_counts())\n",
    "df_day.reset_index(level=0,inplace=True)\n",
    "df_day.rename(columns = {'c_wday':'wday_ct',  'index':'c_wday'},inplace=True)\n",
    "\n",
    "# Month count\n",
    "df_mnth = pd.DataFrame(df.c_mnth.value_counts())\n",
    "df_mnth.reset_index(level=0,inplace=True)\n",
    "df_mnth.rename(columns = {'c_mnth':'mnth_ct',  'index':'c_mnth'},inplace=True)\n",
    "\n",
    "# Year count\n",
    "df_year = pd.DataFrame(df.c_year.value_counts())\n",
    "df_year.reset_index(level=0,inplace=True)\n",
    "df_year.rename(columns = {'c_year':'year_ct',  'index':'c_year'},inplace=True)"
   ]
  },
  {
   "cell_type": "code",
   "execution_count": 5,
   "metadata": {},
   "outputs": [],
   "source": [
    "# left join to the main dataframe\n",
    "df = df.merge(df_day, how = 'left', on = 'c_wday') \n",
    "df = df.merge(df_mnth, how = 'left', on = 'c_mnth')\n",
    "df = df.merge(df_year, how = 'left', on = 'c_year') "
   ]
  },
  {
   "cell_type": "markdown",
   "metadata": {},
   "source": [
    "# 2. Hour count"
   ]
  },
  {
   "cell_type": "code",
   "execution_count": 6,
   "metadata": {
    "scrolled": true
   },
   "outputs": [],
   "source": [
    "# Hour count\n",
    "df_hour = pd.DataFrame(df.c_hour.value_counts())\n",
    "df_hour.reset_index(level=0,inplace=True)\n",
    "df_hour.rename(columns = {'c_hour':'hour_ct',  'index':'c_hour'},inplace=True)\n",
    "\n",
    "# left join to the main dataframe\n",
    "df = df.merge(df_hour, how = 'left', on = 'c_hour')"
   ]
  },
  {
   "cell_type": "markdown",
   "metadata": {},
   "source": [
    "# 3. Other count based features"
   ]
  },
  {
   "cell_type": "code",
   "execution_count": 7,
   "metadata": {},
   "outputs": [],
   "source": [
    "# Treatment required count\n",
    "df_isev = pd.DataFrame(df.p_isev.value_counts())\n",
    "df_isev.reset_index(level=0,inplace=True)\n",
    "df_isev.rename(columns = {'p_isev':'p_isev_ct',  'index':'p_isev'},inplace=True)\n",
    "\n",
    "# Traffic control type\n",
    "df_conf = pd.DataFrame(df.c_conf.value_counts())\n",
    "df_conf.reset_index(level=0,inplace=True)\n",
    "df_conf.rename(columns = {'c_conf':'conf_ct',  'index':'c_conf'},inplace=True)\n",
    "\n",
    "\n",
    "# Safety device used\n",
    "df_safe = pd.DataFrame(df.p_safe.value_counts())\n",
    "df_safe.reset_index(level=0,inplace=True)\n",
    "df_safe.rename(columns = {'p_safe':'p_safe_ct',  'index':'p_safe'},inplace=True)\n",
    "\n",
    "\n",
    "# Weather\n",
    "df_wthr = pd.DataFrame(df.c_wthr.value_counts())\n",
    "df_wthr.reset_index(level=0,inplace=True)\n",
    "df_wthr.rename(columns = {'c_wthr':'wthr_ct',  'index':'c_wthr'},inplace=True)\n",
    "\n",
    "# Vehicle type\n",
    "df_vtype = pd.DataFrame(df.v_type.value_counts())\n",
    "df_vtype.reset_index(level=0,inplace=True)\n",
    "df_vtype.rename(columns = {'v_type':'v_type_ct',  'index':'v_type'},inplace=True)\n",
    "\n",
    "# road way configuration\n",
    "df_rcfg = pd.DataFrame(df.c_rcfg.value_counts())\n",
    "df_rcfg.reset_index(level=0,inplace=True)\n",
    "df_rcfg.rename(columns = {'c_rcfg':'c_rcfg_ct',  'index':'c_rcfg'},inplace=True)"
   ]
  },
  {
   "cell_type": "code",
   "execution_count": 8,
   "metadata": {},
   "outputs": [],
   "source": [
    "# left join to the main dataframe\n",
    "df = df.merge(df_isev, how = 'left', on = 'p_isev')\n",
    "df = df.merge(df_conf, how = 'left', on = 'c_conf') \n",
    "df = df.merge(df_safe, how = 'left', on = 'p_safe') \n",
    "df = df.merge(df_wthr, how = 'left', on = 'c_wthr') \n",
    "df = df.merge(df_vtype, how = 'left', on = 'v_type') \n",
    "df = df.merge(df_rcfg, how = 'left', on = 'c_rcfg') "
   ]
  },
  {
   "cell_type": "code",
   "execution_count": 9,
   "metadata": {},
   "outputs": [],
   "source": [
    "# Averages\n",
    "df['hour_ct_per_day_ct'] = df.hour_ct/df.wday_ct\n",
    "df['hour_ct_per_month_ct'] = df.hour_ct/df.mnth_ct\n",
    "df['pisev_ct_per_hour_ct'] = df.p_isev_ct/df.hour_ct\n",
    "df['conf_ct_per_hour_ct'] = df.conf_ct/df.hour_ct\n",
    "df['psafe_ct_per_hour_ct'] = df.p_safe_ct/df.hour_ct\n",
    "df['wthr_ct_per_hour_ct'] = df.wthr_ct/df.hour_ct\n",
    "df['vtype_ct_per_hour_ct'] = df.v_type_ct/df.hour_ct\n",
    "df['rcfg_ct_per_hour_ct'] = df.c_rcfg_ct/df.hour_ct"
   ]
  },
  {
   "cell_type": "markdown",
   "metadata": {},
   "source": [
    "# Indicators and odd ratio"
   ]
  },
  {
   "cell_type": "code",
   "execution_count": 10,
   "metadata": {},
   "outputs": [],
   "source": [
    "def _odd(df, col1, col2):\n",
    "    \"\"\"\n",
    "    calculate the fatality rate - that is the ratio of the probability \n",
    "    of a fatal collision over the probability of a non-fatal collision\n",
    "\n",
    "    Parameters\n",
    "    ----------\n",
    "    df: pandas dataframe\n",
    "    col1: categorical column with two levels only\n",
    "    col2: class label with two classes only\n",
    "\n",
    "    Returns\n",
    "    ----------\n",
    "    pivoted dataframe\n",
    "    \"\"\"\n",
    "    pvt = pd.crosstab(df[col1], df[col2])\n",
    "    pvt['odds'] = pvt[1]/pvt[0]\n",
    "    pvt['odds ratio'] = pvt.odds['Y']/pvt.odds['N']\n",
    "    pvt['odds ratio'].loc['N'] = ''\n",
    "    return pvt"
   ]
  },
  {
   "cell_type": "markdown",
   "metadata": {},
   "source": [
    "## Head-on collision or not\n",
    "This indicator suggests that head-on collision is 9 times likely to lead to fatal collisions than other collision configurations combined"
   ]
  },
  {
   "cell_type": "code",
   "execution_count": 11,
   "metadata": {},
   "outputs": [
    {
     "data": {
      "text/html": [
       "<div>\n",
       "<style scoped>\n",
       "    .dataframe tbody tr th:only-of-type {\n",
       "        vertical-align: middle;\n",
       "    }\n",
       "\n",
       "    .dataframe tbody tr th {\n",
       "        vertical-align: top;\n",
       "    }\n",
       "\n",
       "    .dataframe thead th {\n",
       "        text-align: right;\n",
       "    }\n",
       "</style>\n",
       "<table border=\"1\" class=\"dataframe\">\n",
       "  <thead>\n",
       "    <tr style=\"text-align: right;\">\n",
       "      <th>class</th>\n",
       "      <th>0</th>\n",
       "      <th>1</th>\n",
       "      <th>odds</th>\n",
       "      <th>odds ratio</th>\n",
       "    </tr>\n",
       "    <tr>\n",
       "      <th>c_conf_ind</th>\n",
       "      <th></th>\n",
       "      <th></th>\n",
       "      <th></th>\n",
       "      <th></th>\n",
       "    </tr>\n",
       "  </thead>\n",
       "  <tbody>\n",
       "    <tr>\n",
       "      <th>N</th>\n",
       "      <td>6462783</td>\n",
       "      <td>87313</td>\n",
       "      <td>0.013510</td>\n",
       "      <td></td>\n",
       "    </tr>\n",
       "    <tr>\n",
       "      <th>Y</th>\n",
       "      <td>196510</td>\n",
       "      <td>25162</td>\n",
       "      <td>0.128044</td>\n",
       "      <td>9.47766</td>\n",
       "    </tr>\n",
       "  </tbody>\n",
       "</table>\n",
       "</div>"
      ],
      "text/plain": [
       "class             0      1      odds odds ratio\n",
       "c_conf_ind                                     \n",
       "N           6462783  87313  0.013510           \n",
       "Y            196510  25162  0.128044    9.47766"
      ]
     },
     "execution_count": 11,
     "metadata": {},
     "output_type": "execute_result"
    }
   ],
   "source": [
    "df['c_conf_ind'] = np.where(df.c_conf == 'Head-on collision', 'Y', 'N')\n",
    "_odd(df, 'c_conf_ind', 'class')"
   ]
  },
  {
   "cell_type": "markdown",
   "metadata": {},
   "source": [
    "# Save as csv"
   ]
  },
  {
   "cell_type": "code",
   "execution_count": 12,
   "metadata": {},
   "outputs": [],
   "source": [
    "df.to_csv('../data/feat_engr_data.csv', index = False)"
   ]
  },
  {
   "cell_type": "code",
   "execution_count": null,
   "metadata": {},
   "outputs": [],
   "source": []
  }
 ],
 "metadata": {
  "kernelspec": {
   "display_name": "Python 3",
   "language": "python",
   "name": "python3"
  },
  "language_info": {
   "codemirror_mode": {
    "name": "ipython",
    "version": 3
   },
   "file_extension": ".py",
   "mimetype": "text/x-python",
   "name": "python",
   "nbconvert_exporter": "python",
   "pygments_lexer": "ipython3",
   "version": "3.9.4"
  },
  "metadata": {
   "interpreter": {
    "hash": "aee8b7b246df8f9039afb4144a1f6fd8d2ca17a180786b69acc140d282b71a49"
   }
  }
 },
 "nbformat": 4,
 "nbformat_minor": 4
}
